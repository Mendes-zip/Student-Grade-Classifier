{
 "cells": [
  {
   "cell_type": "code",
   "execution_count": 1,
   "id": "9e76b333",
   "metadata": {},
   "outputs": [],
   "source": [
    "import torch \n",
    "import torch.nn as nn \n",
    "import numpy as np\n",
    "import pandas as pd\n",
    "import matplotlib.pyplot as plt"
   ]
  },
  {
   "cell_type": "code",
   "execution_count": 2,
   "id": "16b8f3e1",
   "metadata": {},
   "outputs": [
    {
     "data": {
      "text/html": [
       "<div>\n",
       "<style scoped>\n",
       "    .dataframe tbody tr th:only-of-type {\n",
       "        vertical-align: middle;\n",
       "    }\n",
       "\n",
       "    .dataframe tbody tr th {\n",
       "        vertical-align: top;\n",
       "    }\n",
       "\n",
       "    .dataframe thead th {\n",
       "        text-align: right;\n",
       "    }\n",
       "</style>\n",
       "<table border=\"1\" class=\"dataframe\">\n",
       "  <thead>\n",
       "    <tr style=\"text-align: right;\">\n",
       "      <th></th>\n",
       "      <th>StudentID</th>\n",
       "      <th>Age</th>\n",
       "      <th>Gender</th>\n",
       "      <th>Ethnicity</th>\n",
       "      <th>ParentalEducation</th>\n",
       "      <th>StudyTimeWeekly</th>\n",
       "      <th>Absences</th>\n",
       "      <th>Tutoring</th>\n",
       "      <th>ParentalSupport</th>\n",
       "      <th>Extracurricular</th>\n",
       "      <th>Sports</th>\n",
       "      <th>Music</th>\n",
       "      <th>Volunteering</th>\n",
       "      <th>GPA</th>\n",
       "      <th>GradeClass</th>\n",
       "    </tr>\n",
       "  </thead>\n",
       "  <tbody>\n",
       "    <tr>\n",
       "      <th>0</th>\n",
       "      <td>1001</td>\n",
       "      <td>17</td>\n",
       "      <td>1</td>\n",
       "      <td>0</td>\n",
       "      <td>2</td>\n",
       "      <td>19.833723</td>\n",
       "      <td>7</td>\n",
       "      <td>1</td>\n",
       "      <td>2</td>\n",
       "      <td>0</td>\n",
       "      <td>0</td>\n",
       "      <td>1</td>\n",
       "      <td>0</td>\n",
       "      <td>2.929196</td>\n",
       "      <td>2.0</td>\n",
       "    </tr>\n",
       "    <tr>\n",
       "      <th>1</th>\n",
       "      <td>1002</td>\n",
       "      <td>18</td>\n",
       "      <td>0</td>\n",
       "      <td>0</td>\n",
       "      <td>1</td>\n",
       "      <td>15.408756</td>\n",
       "      <td>0</td>\n",
       "      <td>0</td>\n",
       "      <td>1</td>\n",
       "      <td>0</td>\n",
       "      <td>0</td>\n",
       "      <td>0</td>\n",
       "      <td>0</td>\n",
       "      <td>3.042915</td>\n",
       "      <td>1.0</td>\n",
       "    </tr>\n",
       "    <tr>\n",
       "      <th>2</th>\n",
       "      <td>1003</td>\n",
       "      <td>15</td>\n",
       "      <td>0</td>\n",
       "      <td>2</td>\n",
       "      <td>3</td>\n",
       "      <td>4.210570</td>\n",
       "      <td>26</td>\n",
       "      <td>0</td>\n",
       "      <td>2</td>\n",
       "      <td>0</td>\n",
       "      <td>0</td>\n",
       "      <td>0</td>\n",
       "      <td>0</td>\n",
       "      <td>0.112602</td>\n",
       "      <td>4.0</td>\n",
       "    </tr>\n",
       "    <tr>\n",
       "      <th>3</th>\n",
       "      <td>1004</td>\n",
       "      <td>17</td>\n",
       "      <td>1</td>\n",
       "      <td>0</td>\n",
       "      <td>3</td>\n",
       "      <td>10.028829</td>\n",
       "      <td>14</td>\n",
       "      <td>0</td>\n",
       "      <td>3</td>\n",
       "      <td>1</td>\n",
       "      <td>0</td>\n",
       "      <td>0</td>\n",
       "      <td>0</td>\n",
       "      <td>2.054218</td>\n",
       "      <td>3.0</td>\n",
       "    </tr>\n",
       "    <tr>\n",
       "      <th>4</th>\n",
       "      <td>1005</td>\n",
       "      <td>17</td>\n",
       "      <td>1</td>\n",
       "      <td>0</td>\n",
       "      <td>2</td>\n",
       "      <td>4.672495</td>\n",
       "      <td>17</td>\n",
       "      <td>1</td>\n",
       "      <td>3</td>\n",
       "      <td>0</td>\n",
       "      <td>0</td>\n",
       "      <td>0</td>\n",
       "      <td>0</td>\n",
       "      <td>1.288061</td>\n",
       "      <td>4.0</td>\n",
       "    </tr>\n",
       "  </tbody>\n",
       "</table>\n",
       "</div>"
      ],
      "text/plain": [
       "   StudentID  Age  Gender  Ethnicity  ParentalEducation  StudyTimeWeekly  \\\n",
       "0       1001   17       1          0                  2        19.833723   \n",
       "1       1002   18       0          0                  1        15.408756   \n",
       "2       1003   15       0          2                  3         4.210570   \n",
       "3       1004   17       1          0                  3        10.028829   \n",
       "4       1005   17       1          0                  2         4.672495   \n",
       "\n",
       "   Absences  Tutoring  ParentalSupport  Extracurricular  Sports  Music  \\\n",
       "0         7         1                2                0       0      1   \n",
       "1         0         0                1                0       0      0   \n",
       "2        26         0                2                0       0      0   \n",
       "3        14         0                3                1       0      0   \n",
       "4        17         1                3                0       0      0   \n",
       "\n",
       "   Volunteering       GPA  GradeClass  \n",
       "0             0  2.929196         2.0  \n",
       "1             0  3.042915         1.0  \n",
       "2             0  0.112602         4.0  \n",
       "3             0  2.054218         3.0  \n",
       "4             0  1.288061         4.0  "
      ]
     },
     "execution_count": 2,
     "metadata": {},
     "output_type": "execute_result"
    }
   ],
   "source": [
    "df = pd.read_csv('students_data.csv')\n",
    "df.head()"
   ]
  },
  {
   "cell_type": "code",
   "execution_count": 19,
   "id": "10f172dc",
   "metadata": {},
   "outputs": [
    {
     "data": {
      "text/plain": [
       "StudentID            2392\n",
       "Age                     4\n",
       "Gender                  2\n",
       "Ethnicity               4\n",
       "ParentalEducation       5\n",
       "StudyTimeWeekly      2392\n",
       "Absences               30\n",
       "Tutoring                2\n",
       "ParentalSupport         5\n",
       "Extracurricular         2\n",
       "Sports                  2\n",
       "Music                   2\n",
       "Volunteering            2\n",
       "GPA                  2371\n",
       "GradeClass              5\n",
       "dtype: int64"
      ]
     },
     "execution_count": 19,
     "metadata": {},
     "output_type": "execute_result"
    }
   ],
   "source": [
    "df.columns \n",
    "df.nunique()"
   ]
  },
  {
   "cell_type": "code",
   "execution_count": 4,
   "id": "021e17d1",
   "metadata": {},
   "outputs": [],
   "source": [
    "cat_cols = ['Tutoring', 'Extracurricular', 'ParentalSupport', 'Sports', 'Music', 'Volunteering', 'ParentalEducation']\n",
    "cont_cols = ['StudyTimeWeekly', 'Absences', 'GPA', 'Age']\n",
    "y_col = ['GradeClass']\n",
    "\n",
    "for cat in cat_cols:\n",
    "    df[cat] = df[cat].astype('category')\n",
    "    \n",
    "cats = np.stack([df[col].cat.codes.values for col in cat_cols], 1)\n",
    "cats = torch.tensor(cats, dtype=torch.int64)\n"
   ]
  },
  {
   "cell_type": "code",
   "execution_count": 5,
   "id": "3440c1a3",
   "metadata": {},
   "outputs": [],
   "source": [
    "conts = np.stack([df[cont].values for cont in cont_cols], 1)\n",
    "conts = torch.tensor(conts, dtype=torch.float)\n"
   ]
  },
  {
   "cell_type": "code",
   "execution_count": 6,
   "id": "9db1968c",
   "metadata": {},
   "outputs": [],
   "source": [
    "Y = torch.tensor(df[y_col].values).flatten()"
   ]
  },
  {
   "cell_type": "code",
   "execution_count": 7,
   "id": "49bc9315",
   "metadata": {},
   "outputs": [
    {
     "name": "stdout",
     "output_type": "stream",
     "text": [
      "category sizes: [2, 2, 5, 2, 2, 2, 5]              embedding sizes: [(2, 1), (2, 1), (5, 3), (2, 1), (2, 1), (2, 1), (5, 3)]\n"
     ]
    }
   ],
   "source": [
    "cat_szs = [len(df[col].cat.categories) for col in cat_cols]\n",
    "emb_szs = [(size, min(50, (size+1)//2)) for size in cat_szs]\n",
    "print(f'category sizes: {cat_szs}              embedding sizes: {emb_szs}')"
   ]
  },
  {
   "cell_type": "code",
   "execution_count": 8,
   "id": "3ab2e7aa",
   "metadata": {},
   "outputs": [],
   "source": [
    "class Alex(nn.Module):\n",
    "    \n",
    "    def __init__(self, emb_szs, n_cont, out_features, layers, p=0.4):\n",
    "        super().__init__()\n",
    "        self.embeds = nn.ModuleList([nn.Embedding(ni, nf) for ni,nf in emb_szs])\n",
    "        self.emb_drop = nn.Dropout(p)\n",
    "        self.bn_cont = nn.BatchNorm1d(n_cont)\n",
    "        \n",
    "        n_emb = sum([nf for ni, nf in emb_szs])\n",
    "        layerlist = []\n",
    "        n_in = n_emb + n_cont\n",
    "        \n",
    "        for i in layers:\n",
    "            layerlist.append(nn.Linear(n_in, i))\n",
    "            layerlist.append(nn.ReLU(inplace=True))\n",
    "            layerlist.append(nn.BatchNorm1d(i))\n",
    "            layerlist.append(nn.Dropout(p))\n",
    "            n_in = i\n",
    "        layerlist.append(nn.Linear(layers[-1], out_features))\n",
    "            \n",
    "        self.layers = nn.Sequential(*layerlist)\n",
    "        \n",
    "    def forward(self, x_cat, x_cont):\n",
    "        embeddings = []\n",
    "        for i,e in enumerate(self.embeds):\n",
    "            embeddings.append(e(x_cat[:,i]))\n",
    "        x = torch.cat(embeddings, 1)\n",
    "        x = self.emb_drop(x)\n",
    "        \n",
    "        x_cont = self.bn_cont(x_cont)\n",
    "        x = torch.cat([x, x_cont], 1)\n",
    "        x = self.layers(x)\n",
    "        return x"
   ]
  },
  {
   "cell_type": "code",
   "execution_count": 9,
   "id": "768fcaf9",
   "metadata": {},
   "outputs": [],
   "source": [
    "model = Alex(emb_szs, conts.shape[1], 5, [200, 100], p=0.4)\n",
    "\n",
    "criterion = nn.CrossEntropyLoss()\n",
    "optimizer = torch.optim.Adam(model.parameters(), lr=0.001)"
   ]
  },
  {
   "cell_type": "code",
   "execution_count": 10,
   "id": "fd1c7d8f",
   "metadata": {},
   "outputs": [
    {
     "name": "stdout",
     "output_type": "stream",
     "text": [
      "2392\n"
     ]
    }
   ],
   "source": [
    "print(len(df))"
   ]
  },
  {
   "cell_type": "code",
   "execution_count": 11,
   "id": "e0c747cb",
   "metadata": {},
   "outputs": [],
   "source": [
    "batch_size = 2393\n",
    "test_size = 1000\n",
    "\n",
    "cat_train = cats[:batch_size-test_size]\n",
    "cat_test = cats[batch_size-test_size:batch_size]\n",
    "con_train = conts[:batch_size-test_size]\n",
    "con_test = conts[batch_size-test_size:batch_size]\n",
    "y_train = Y[:batch_size-test_size]\n",
    "y_test = Y[batch_size-test_size:batch_size]"
   ]
  },
  {
   "cell_type": "code",
   "execution_count": null,
   "id": "d5666e13",
   "metadata": {},
   "outputs": [],
   "source": []
  },
  {
   "cell_type": "code",
   "execution_count": 12,
   "id": "558fbf46",
   "metadata": {},
   "outputs": [
    {
     "name": "stdout",
     "output_type": "stream",
     "text": [
      "epoch: 800  loss: 0.05397755\n",
      "\n",
      "Duration: 81 seconds\n"
     ]
    }
   ],
   "source": [
    "import time \n",
    "start_time = time.time()\n",
    "\n",
    "epochs = 800 \n",
    "losses = []\n",
    "\n",
    "y_train = y_train.long()\n",
    "for i in range(epochs):\n",
    "    i+=1 \n",
    "    y_pred = model(cat_train, con_train)\n",
    "    loss = criterion(y_pred, y_train)\n",
    "    losses.append(loss)\n",
    "    \n",
    "    \n",
    "    optimizer.zero_grad()\n",
    "    loss.backward()\n",
    "    optimizer.step()\n",
    "    \n",
    "\n",
    "print(f'epoch: {i:3}  loss: {loss.item():10.8f}') # print the last line\n",
    "print(f'\\nDuration: {time.time() - start_time:.0f} seconds') # print the time elapsed    "
   ]
  },
  {
   "cell_type": "code",
   "execution_count": 13,
   "id": "2644b1f4",
   "metadata": {},
   "outputs": [
    {
     "data": {
      "text/plain": [
       "800"
      ]
     },
     "execution_count": 13,
     "metadata": {},
     "output_type": "execute_result"
    }
   ],
   "source": [
    "len(losses)"
   ]
  },
  {
   "cell_type": "code",
   "execution_count": 14,
   "id": "8c3028d4",
   "metadata": {},
   "outputs": [
    {
     "data": {
      "image/png": "[encoded data removed]",
      "text/plain": [
       "<Figure size 640x480 with 1 Axes>"
      ]
     },
     "metadata": {},
     "output_type": "display_data"
    }
   ],
   "source": [
    "# Certificando-se de que todos os elementos em `losses` são números flutuantes simples\n",
    "# Certificando-se de que todos os elementos em `losses` são números flutuantes simples\n",
    "losses = [loss.detach().numpy() if isinstance(loss, torch.Tensor) else loss for loss in losses]\n",
    "\n",
    "plt.plot(range(epochs), losses)\n",
    "plt.ylabel('Cross Entropy Loss')\n",
    "plt.xlabel('epoch')\n",
    "plt.show()\n"
   ]
  },
  {
   "cell_type": "code",
   "execution_count": 15,
   "id": "54d11c14",
   "metadata": {},
   "outputs": [
    {
     "name": "stdout",
     "output_type": "stream",
     "text": [
      "CE Loss: 2.71690845\n"
     ]
    }
   ],
   "source": [
    "with torch.no_grad():\n",
    "    y_val = model(cat_test, con_test)\n",
    "    # Certifique-se de que y_test é um LongTensor\n",
    "    y_test = y_test.long()\n",
    "    loss = criterion(y_val, y_test)\n",
    "print(f'CE Loss: {loss:.8f}')\n"
   ]
  },
  {
   "cell_type": "code",
   "execution_count": 16,
   "id": "35349da8",
   "metadata": {},
   "outputs": [
    {
     "name": "stdout",
     "output_type": "stream",
     "text": [
      "MODEL OUTPUT               ARGMAX  Y_TEST\n",
      "tensor([ -3.2593,   4.9463,  10.4320,   1.3459, -12.9141])    2      2   \n",
      "tensor([-0.0612, -3.6199, -4.2269, -6.3817, 12.4644])    4      4   \n",
      "tensor([-4.4260, -7.0274, -4.9859,  5.1828,  9.6892])    4      4   \n",
      "tensor([ -1.6066,   4.1751,  10.5408,   3.5446, -13.7139])    2      2   \n",
      "tensor([-1.1169, -7.3873, -8.3456,  2.1843, 12.3589])    4      4   \n",
      "tensor([ -2.7296,  -8.1249, -10.6933,   5.6009,  11.6703])    4      4   \n",
      "tensor([-4.4816, -6.7214, -2.5514,  7.7867,  6.1513])    3      3   \n",
      "tensor([-3.7806,  1.8993,  6.5022,  5.2202, -9.3511])    2      2   \n",
      "tensor([  0.3959,  -4.4515,  -4.0185, -11.1005,  17.0846])    4      4   \n",
      "tensor([-4.7133, -5.9588, -3.2874,  8.8662,  5.5806])    3      4   \n",
      "tensor([-6.7343, -5.5481,  1.2424, 12.3596, -0.4009])    3      3   \n",
      "tensor([ -0.5782,  -7.1248, -10.4501,   2.1345,  14.7092])    4      4   \n",
      "tensor([-5.5329, -1.1959,  9.1914,  7.3423, -8.4102])    2      2   \n",
      "tensor([-6.5986, -5.1217,  4.8477,  8.9153, -1.2081])    3      3   \n",
      "tensor([-0.4713, -5.8030, -9.7514, -1.3365, 14.6020])    4      4   \n",
      "tensor([-1.6059, -4.8949, -4.2588, -0.1155,  9.2352])    4      4   \n",
      "tensor([-3.1875, -8.0492, -6.9414,  4.3893, 11.4582])    4      4   \n",
      "tensor([-4.3773, -4.5634, -2.1562,  6.8758,  3.2347])    3      3   \n",
      "tensor([-2.4866, -2.6721, -2.9743, -3.6856, 10.8373])    4      4   \n",
      "tensor([-6.2245, -8.6613,  4.1172, 13.0322,  3.1231])    3      3   \n",
      "tensor([ -4.5764,   3.4826,  10.2025,   4.2559, -10.4584])    2      2   \n",
      "tensor([-0.8334, -5.5549, -7.2983, -1.6671, 13.1912])    4      4   \n",
      "tensor([  3.9862,  14.4964,   9.2161,  -4.3727, -22.8604])    1      1   \n",
      "tensor([ -5.8820,   1.0082,  10.1292,   8.1778, -11.0353])    2      2   \n",
      "tensor([-7.1865, -6.2017,  6.5386, 14.7947, -3.4200])    3      3   \n",
      "tensor([-2.2909, -8.0130, -9.2345,  4.5304, 12.6717])    4      4   \n",
      "tensor([ 13.9532,  16.5320,   1.0916,  -8.8317, -20.0933])    1      0   \n",
      "tensor([-1.8488, -5.2360, -3.9084, -0.0767, 10.6650])    4      4   \n",
      "tensor([ -5.0980,   0.6128,  13.0684,   6.1706, -12.1552])    2      2   \n",
      "tensor([ 0.4437, -5.0840, -8.0834, -3.1210, 13.1913])    4      4   \n",
      "tensor([-1.6770, -6.1381, -8.7567, -0.5431, 16.4566])    4      4   \n",
      "tensor([ -2.1191,  -9.0144, -14.8000,   4.9777,  16.8641])    4      4   \n",
      "tensor([-2.3101, -5.7519, -5.4255,  3.9488,  7.8686])    4      4   \n",
      "tensor([ -4.3497,   4.2105,   7.6437,   6.2187, -10.9293])    2      2   \n",
      "tensor([ -1.3540,  -7.3545, -10.6395,  -0.1826,  16.4977])    4      4   \n",
      "tensor([-3.4832, -9.0388, -7.4055,  7.3738, 11.2384])    4      4   \n",
      "tensor([ -6.5790,   5.6164,   9.1244,   4.3635, -11.6197])    2      2   \n",
      "tensor([ 0.8754, -3.5494, -3.9892, -8.2785, 13.0934])    4      4   \n",
      "tensor([-0.3970, -3.3493, -2.6200, -4.2353, 10.6420])    4      4   \n",
      "tensor([ -4.8180,   7.5374,  12.3647,   3.6258, -17.2685])    2      2   \n",
      "tensor([-1.3668, -3.2028, -4.5736, -2.5390, 10.8854])    4      4   \n",
      "tensor([-1.1233, -3.9055, -3.9387, -5.2991, 14.0433])    4      4   \n",
      "tensor([ 25.4742,  22.7297,  -2.8004, -18.4852, -30.5527])    0      0   \n",
      "tensor([-1.0524, -5.0154, -5.8967, -1.6271, 12.4647])    4      4   \n",
      "tensor([-4.6136, -4.8146, -3.6055,  3.9891,  7.3376])    4      4   \n",
      "tensor([-0.9586, -6.4252, -8.8651, -3.2479, 16.0278])    4      4   \n",
      "tensor([-0.0610, -4.1005, -5.3374, -0.1969, 10.2828])    4      4   \n",
      "tensor([-3.2098, -6.4412, -9.3508,  3.5808, 12.0217])    4      4   \n",
      "tensor([-1.2732, -4.3701, -3.6010, -5.7579, 15.3228])    4      4   \n",
      "tensor([ 0.7668, -3.7602, -2.3354, -5.3518, 13.7233])    4      4   \n",
      "\n",
      "48 out of 50 = 96.00% correct\n"
     ]
    }
   ],
   "source": [
    "rows = 50\n",
    "correct = 0\n",
    "print(f'{\"MODEL OUTPUT\":26} ARGMAX  Y_TEST')\n",
    "for i in range(rows):\n",
    "    print(f'{str(y_val[i]):26} {y_val[i].argmax():^7}{y_test[i]:^7}')\n",
    "    if y_val[i].argmax().item() == y_test[i]:\n",
    "        correct += 1\n",
    "print(f'\\n{correct} out of {rows} = {100*correct/rows:.2f}% correct')"
   ]
  },
  {
   "cell_type": "code",
   "execution_count": 18,
   "id": "a9a6cb32",
   "metadata": {},
   "outputs": [
    {
     "data": {
      "text/plain": [
       "Alex(\n",
       "  (embeds): ModuleList(\n",
       "    (0): Embedding(2, 1)\n",
       "    (1): Embedding(2, 1)\n",
       "    (2): Embedding(5, 3)\n",
       "    (3): Embedding(2, 1)\n",
       "    (4): Embedding(2, 1)\n",
       "    (5): Embedding(2, 1)\n",
       "    (6): Embedding(5, 3)\n",
       "  )\n",
       "  (emb_drop): Dropout(p=0.4, inplace=False)\n",
       "  (bn_cont): BatchNorm1d(4, eps=1e-05, momentum=0.1, affine=True, track_running_stats=True)\n",
       "  (layers): Sequential(\n",
       "    (0): Linear(in_features=15, out_features=200, bias=True)\n",
       "    (1): ReLU(inplace=True)\n",
       "    (2): BatchNorm1d(200, eps=1e-05, momentum=0.1, affine=True, track_running_stats=True)\n",
       "    (3): Dropout(p=0.4, inplace=False)\n",
       "    (4): Linear(in_features=200, out_features=100, bias=True)\n",
       "    (5): ReLU(inplace=True)\n",
       "    (6): BatchNorm1d(100, eps=1e-05, momentum=0.1, affine=True, track_running_stats=True)\n",
       "    (7): Dropout(p=0.4, inplace=False)\n",
       "    (8): Linear(in_features=100, out_features=5, bias=True)\n",
       "  )\n",
       ")"
      ]
     },
     "execution_count": 18,
     "metadata": {},
     "output_type": "execute_result"
    }
   ],
   "source": [
    "torch.save(model.state_dict(), 'studentGradeClassifier.pt')\n"
   ]
  }
 ],
 "metadata": {
  "kernelspec": {
   "display_name": "Python 3 (ipykernel)",
   "language": "python",
   "name": "python3"
  },
  "language_info": {
   "codemirror_mode": {
    "name": "ipython",
    "version": 3
   },
   "file_extension": ".py",
   "mimetype": "text/x-python",
   "name": "python",
   "nbconvert_exporter": "python",
   "pygments_lexer": "ipython3",
   "version": "3.7.3"
  }
 },
 "nbformat": 4,
 "nbformat_minor": 5
}
